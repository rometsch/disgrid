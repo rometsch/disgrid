{
 "cells": [
  {
   "cell_type": "markdown",
   "metadata": {},
   "source": [
    "# Setting up the environment"
   ]
  },
  {
   "cell_type": "markdown",
   "metadata": {},
   "source": [
    "## Import the usual suspects\n",
    "We'll want to plot something and use numpy for arrays and astropy for quantities and units."
   ]
  },
  {
   "cell_type": "code",
   "execution_count": 1,
   "metadata": {},
   "outputs": [],
   "source": [
    "import matplotlib.pyplot as plt\n",
    "import matplotlib\n",
    "%matplotlib inline\n",
    "import numpy as np\n",
    "import os\n",
    "import astropy.units as u"
   ]
  },
  {
   "cell_type": "markdown",
   "metadata": {},
   "source": [
    "## Define a function to inspect objects\n",
    "To learn about the structure, we would like to have a function returning the important member variables of an object, but not the internal ones starting with a \"_\"."
   ]
  },
  {
   "cell_type": "code",
   "execution_count": 2,
   "metadata": {},
   "outputs": [],
   "source": [
    "def filterdir(x):\n",
    "    \"\"\" Run dir but filter out entries starting with _. \"\"\"\n",
    "    entries = [s for s in dir(x) if s[0] != \"_\"]\n",
    "    return entries"
   ]
  },
  {
   "cell_type": "markdown",
   "metadata": {},
   "source": [
    "Import the Data class from disgrid. This is probably the only part you'll ever need as a user."
   ]
  },
  {
   "cell_type": "markdown",
   "metadata": {},
   "source": [
    "## Creating our fist Data object\n",
    "The \"Data\" class is the interface of disgrid. It's the part of the package you work with as a user."
   ]
  },
  {
   "cell_type": "code",
   "execution_count": 3,
   "metadata": {},
   "outputs": [],
   "source": [
    "from disgrid import Data"
   ]
  },
  {
   "cell_type": "markdown",
   "metadata": {},
   "source": [
    "Create a Data object for the fargo3d output from the RADMC3D & Fargo3d tutorial.\n",
    "If you're brave and have your own Pluto/Fargo/Fargo3d data, go ahead and try another data dir.\n",
    "If you didn't attend the fargo3d tutorial, get it from [here](https://www.tat.physik.uni-tuebingen.de/~rometsch/RUTD/fargo3d_output.tgz), save it and change datadir to the directory you unpacked."
   ]
  },
  {
   "cell_type": "code",
   "execution_count": 4,
   "metadata": {},
   "outputs": [],
   "source": [
    "datadir = os.path.expanduser(\"~/bormio_tutorial/fargo3d/outputs/fargo_multifluid/\")\n",
    "data = Data(datadir)"
   ]
  },
  {
   "cell_type": "markdown",
   "metadata": {},
   "source": [
    "Let's inspect what Data has to offer:"
   ]
  },
  {
   "cell_type": "code",
   "execution_count": 5,
   "metadata": {},
   "outputs": [
    {
     "data": {
      "text/plain": [
       "['code',\n",
       " 'fluids',\n",
       " 'get_fluid',\n",
       " 'loader',\n",
       " 'parameters',\n",
       " 'particlegroups',\n",
       " 'planets']"
      ]
     },
     "execution_count": 5,
     "metadata": {},
     "output_type": "execute_result"
    }
   ],
   "source": [
    "filterdir(data)"
   ]
  },
  {
   "cell_type": "markdown",
   "metadata": {},
   "source": [
    "Now we get to learn each of the entries to get familiar with the interface."
   ]
  },
  {
   "cell_type": "markdown",
   "metadata": {},
   "source": [
    "### Note: particle groups are not implemented yet\n",
    "Because the authors do not use dust implemented as partic"
   ]
  },
  {
   "cell_type": "markdown",
   "metadata": {},
   "source": [
    "## loaders and codes\n",
    "If you initialize a Data object as above, disgrid tries to determine a suitable loader for the data.\n",
    "Currently the following are supported by disgrid."
   ]
  },
  {
   "cell_type": "code",
   "execution_count": 6,
   "metadata": {},
   "outputs": [
    {
     "name": "stdout",
     "output_type": "stream",
     "text": [
      "('fargocpt', '0.1', 'legacy_output')\n",
      "('fargo3d', '2.0', 'multifluid')\n",
      "('PLUTO', '4.3', 'vanilla')\n",
      "('PLUTO', '4.2', 'vanilla')\n",
      "('exmaple_code', '0.1', 'test')\n"
     ]
    }
   ],
   "source": [
    "import disgrid.loaders\n",
    "for x in disgrid.loaders.available:\n",
    "    print(x)"
   ]
  },
  {
   "cell_type": "markdown",
   "metadata": {},
   "source": [
    "The example_code loader still hangs around for testing.\n",
    "Now lets see which of these loaders disgrid chose for the data we gave it."
   ]
  },
  {
   "cell_type": "code",
   "execution_count": 7,
   "metadata": {},
   "outputs": [
    {
     "data": {
      "text/plain": [
       "('fargo3d', '2.0', 'multifluid')"
      ]
     },
     "execution_count": 7,
     "metadata": {},
     "output_type": "execute_result"
    }
   ],
   "source": [
    "data.code"
   ]
  },
  {
   "cell_type": "markdown",
   "metadata": {},
   "source": [
    "It correctly identified the fargo3d loader"
   ]
  },
  {
   "cell_type": "markdown",
   "metadata": {},
   "source": [
    "## Parameters\n",
    "Analyzing simulation data, we often want to have access parameters as well. \n",
    "If the loader supports parameters, parameters are provided as a dict."
   ]
  },
  {
   "cell_type": "code",
   "execution_count": 8,
   "metadata": {},
   "outputs": [
    {
     "name": "stdout",
     "output_type": "stream",
     "text": [
      "Type of parameters: <class 'dict'>\n"
     ]
    }
   ],
   "source": [
    "print(\"Type of parameters:\",type(data.parameters))"
   ]
  },
  {
   "cell_type": "markdown",
   "metadata": {},
   "source": [
    "Display the first 10:"
   ]
  },
  {
   "cell_type": "code",
   "execution_count": 9,
   "metadata": {},
   "outputs": [
    {
     "name": "stdout",
     "output_type": "stream",
     "text": [
      "alpha : 0\n",
      "aspect : auto\n",
      "aspectratio : 0.05\n",
      "autocolor : 1\n",
      "beta : 0\n",
      "cfl : 0.44\n",
      "cmap : magma\n",
      "colorbar : 1\n",
      "coordinates : cylindrical\n",
      "cs : 1\n"
     ]
    }
   ],
   "source": [
    "n = 0\n",
    "for key, value in data.parameters.items():\n",
    "    print(key, \":\", value)\n",
    "    n += 1\n",
    "    if n == 10: break"
   ]
  },
  {
   "cell_type": "markdown",
   "metadata": {},
   "source": [
    "## Planets\n",
    "Since the authors of this package run planet-disk interaction simulations, there is a dedicated part for planets. "
   ]
  },
  {
   "cell_type": "code",
   "execution_count": 10,
   "metadata": {},
   "outputs": [
    {
     "name": "stdout",
     "output_type": "stream",
     "text": [
      "[<disgrid.particles.Planet object at 0x7fc8a893bf98>]\n"
     ]
    }
   ],
   "source": [
    "print(data.planets)"
   ]
  },
  {
   "cell_type": "markdown",
   "metadata": {},
   "source": [
    "In this case, there is only one planet in the list. It is an object of the class Planet."
   ]
  },
  {
   "cell_type": "code",
   "execution_count": 11,
   "metadata": {},
   "outputs": [
    {
     "data": {
      "text/plain": [
       "['alias',\n",
       " 'get',\n",
       " 'ids',\n",
       " 'name',\n",
       " 'nid',\n",
       " 'register_alias',\n",
       " 'register_particles',\n",
       " 'register_variable',\n",
       " 'variable_loaders']"
      ]
     },
     "execution_count": 11,
     "metadata": {},
     "output_type": "execute_result"
    }
   ],
   "source": [
    "p = data.planets[0]\n",
    "filterdir(p)"
   ]
  },
  {
   "cell_type": "markdown",
   "metadata": {},
   "source": [
    "You can ignore the \"ids\", \"alias\", \"register_*\" members."
   ]
  },
  {
   "cell_type": "markdown",
   "metadata": {},
   "source": [
    "### Info about planets"
   ]
  },
  {
   "cell_type": "code",
   "execution_count": 12,
   "metadata": {},
   "outputs": [
    {
     "name": "stdout",
     "output_type": "stream",
     "text": [
      "Id of the planet: 0\n"
     ]
    }
   ],
   "source": [
    "print(\"Id of the planet:\", p.nid)"
   ]
  },
  {
   "cell_type": "code",
   "execution_count": 13,
   "metadata": {},
   "outputs": [
    {
     "name": "stdout",
     "output_type": "stream",
     "text": [
      "Name of the planet: 0\n"
     ]
    }
   ],
   "source": [
    "print(\"Name of the planet:\", p.name)"
   ]
  },
  {
   "cell_type": "markdown",
   "metadata": {},
   "source": [
    "Here, the both coincide, but they can be different depending on the naming of planets in the simulation code."
   ]
  },
  {
   "cell_type": "markdown",
   "metadata": {},
   "source": [
    "## get function\n",
    "This function is used to get the data."
   ]
  },
  {
   "cell_type": "code",
   "execution_count": 14,
   "metadata": {},
   "outputs": [],
   "source": [
    "a = p.get(\"semi-major axis\")"
   ]
  },
  {
   "cell_type": "markdown",
   "metadata": {},
   "source": [
    "We just got the semi-major axis by specifing the human readable name. Without needing to know anything about the specifics of how fargo3d stores output data."
   ]
  },
  {
   "cell_type": "code",
   "execution_count": 15,
   "metadata": {},
   "outputs": [
    {
     "name": "stdout",
     "output_type": "stream",
     "text": [
      "type of a: <class 'disgrid.scalar.Scalar'>\n",
      "name of a: semi-major axis\n"
     ]
    },
    {
     "data": {
      "text/plain": [
       "['data', 'get', 'get_closest_to_time', 'get_time_interval', 'name', 'time']"
      ]
     },
     "execution_count": 15,
     "metadata": {},
     "output_type": "execute_result"
    }
   ],
   "source": [
    "print(\"type of a:\", type(a))\n",
    "print(\"name of a:\", a.name)\n",
    "filterdir(a)"
   ]
  },
  {
   "cell_type": "markdown",
   "metadata": {},
   "source": [
    "Variable a is of type **Scalar**. The most important things and the only ones we look at here are the **data** and **time** members.\n",
    "Both are astropy quantities, so they have physical units!"
   ]
  },
  {
   "cell_type": "code",
   "execution_count": 16,
   "metadata": {},
   "outputs": [
    {
     "name": "stdout",
     "output_type": "stream",
     "text": [
      "[18707639.60354093 37415279.20708187 56122918.8106228  74830558.41440193\n",
      " 93538198.01800242] s\n",
      "[7.77909005e+13 7.77909226e+13 7.77909570e+13 7.77910002e+13\n",
      " 7.77910481e+13] cm\n"
     ]
    }
   ],
   "source": [
    "print(a.time[:5])\n",
    "print(a.data[:5])"
   ]
  },
  {
   "cell_type": "markdown",
   "metadata": {},
   "source": [
    "Note again, that both of them have physical units. Every physical quantity in disgrid is supposed to have a unit. Because otherwise its just a number, not a physical quantity."
   ]
  },
  {
   "cell_type": "code",
   "execution_count": 17,
   "metadata": {},
   "outputs": [
    {
     "name": "stdout",
     "output_type": "stream",
     "text": [
      "type of a.time: <class 'astropy.units.quantity.Quantity'>\n",
      "unit of a.time: s\n"
     ]
    }
   ],
   "source": [
    "print(\"type of a.time:\", type(a.time))\n",
    "print(\"unit of a.time:\", a.time.unit)"
   ]
  },
  {
   "cell_type": "markdown",
   "metadata": {},
   "source": [
    "To see, which quantities are available run:"
   ]
  },
  {
   "cell_type": "code",
   "execution_count": 18,
   "metadata": {},
   "outputs": [
    {
     "name": "stdout",
     "output_type": "stream",
     "text": [
      "x\n",
      "y\n",
      "z\n",
      "vx\n",
      "vy\n",
      "vz\n",
      "mass\n",
      "time step\n",
      "physical time\n",
      "physical time orbit\n",
      "eccentricity\n",
      "semi-major axis\n",
      "mean anomaly\n",
      "true anomaly\n",
      "argument of periapsis\n",
      "x-axis rotation angle\n",
      "inclination\n",
      "ascending node\n",
      "longitude of periapsis\n"
     ]
    }
   ],
   "source": [
    "for v in p.variable_loaders:\n",
    "    print(v)"
   ]
  },
  {
   "cell_type": "markdown",
   "metadata": {},
   "source": [
    "Looking at numbers is quite boring. So let's plot something. Since this planet is kept at a fixed orbit, the x coordinate is more interesting."
   ]
  },
  {
   "cell_type": "code",
   "execution_count": 19,
   "metadata": {},
   "outputs": [
    {
     "data": {
      "text/plain": [
       "<matplotlib.legend.Legend at 0x7fc8a884dfd0>"
      ]
     },
     "execution_count": 19,
     "metadata": {},
     "output_type": "execute_result"
    },
    {
     "name": "stderr",
     "output_type": "stream",
     "text": [
      "/home/rometsch/.local/lib/python3.6/site-packages/matplotlib/figure.py:2366: UserWarning: This figure includes Axes that are not compatible with tight_layout, so results might be incorrect.\n",
      "  warnings.warn(\"This figure includes Axes that are not compatible \"\n"
     ]
    },
    {
     "data": {
      "image/png": "[encoded data removed]",
      "text/plain": [
       "<Figure size 432x288 with 1 Axes>"
      ]
     },
     "metadata": {
      "needs_background": "light"
     },
     "output_type": "display_data"
    }
   ],
   "source": [
    "x = p.get(\"x\")\n",
    "plt.plot(x.time.to(\"yr\"), x.data.to(\"au\"), label=\"x coordinate\")\n",
    "plt.legend()"
   ]
  },
  {
   "cell_type": "markdown",
   "metadata": {},
   "source": [
    "## Fluids\n",
    "Because this package is developed for hydrodynamics simulations, we want to represent fluids.\n",
    "\n",
    "A fluid is represented by physical fields (they have a value at every position in space) defined on a grid.\n",
    "\n",
    "Currently only regular grids are supported. More on grids later."
   ]
  },
  {
   "cell_type": "code",
   "execution_count": 20,
   "metadata": {},
   "outputs": [
    {
     "data": {
      "text/plain": [
       "{'dust1': <disgrid.fluid.Fluid at 0x7fc8a893bfd0>,\n",
       " 'dust2': <disgrid.fluid.Fluid at 0x7fc8a88c9128>,\n",
       " 'gas': <disgrid.fluid.Fluid at 0x7fc8a88c9198>,\n",
       " 'dust3': <disgrid.fluid.Fluid at 0x7fc8a88c9208>}"
      ]
     },
     "execution_count": 20,
     "metadata": {},
     "output_type": "execute_result"
    }
   ],
   "source": [
    "data.fluids"
   ]
  },
  {
   "cell_type": "markdown",
   "metadata": {},
   "source": [
    "Because we ran a simulation in which we modeled different dust species as fluids, there are 4 Fluid objects present in the data."
   ]
  },
  {
   "cell_type": "markdown",
   "metadata": {},
   "source": [
    "Now we pick the *gas* fluid for inspection, but the *dust* fluids work exactly the same."
   ]
  },
  {
   "cell_type": "code",
   "execution_count": 21,
   "metadata": {},
   "outputs": [],
   "source": [
    "gas = data.fluids[\"gas\"]"
   ]
  },
  {
   "cell_type": "code",
   "execution_count": 22,
   "metadata": {},
   "outputs": [
    {
     "name": "stdout",
     "output_type": "stream",
     "text": [
      "type of gas: <class 'disgrid.fluid.Fluid'>\n",
      "members of the Fluid class\n"
     ]
    },
    {
     "data": {
      "text/plain": [
       "['alias',\n",
       " 'get',\n",
       " 'get_grid',\n",
       " 'get_time',\n",
       " 'name',\n",
       " 'register_alias',\n",
       " 'register_variable',\n",
       " 'variable_loaders']"
      ]
     },
     "execution_count": 22,
     "metadata": {},
     "output_type": "execute_result"
    }
   ],
   "source": [
    "print(\"type of gas:\", type(gas))\n",
    "print(\"members of the Fluid class\")\n",
    "filterdir(gas)"
   ]
  },
  {
   "cell_type": "markdown",
   "metadata": {},
   "source": [
    "Again ignoring some internal functions (alias, register_*) we are left with some functions and member variables to explore."
   ]
  },
  {
   "cell_type": "code",
   "execution_count": 23,
   "metadata": {},
   "outputs": [
    {
     "name": "stdout",
     "output_type": "stream",
     "text": [
      "name of the fluid: gas\n",
      "available physical quantities:\n"
     ]
    },
    {
     "data": {
      "text/plain": [
       "{'3d': {},\n",
       " '2d': {'mass density': <disgrid.loaders.fargo3dmultifluid.FieldLoader2d at 0x7fc8a88c9470>,\n",
       "  'energy density': <disgrid.loaders.fargo3dmultifluid.FieldLoader2d at 0x7fc8a88c94e0>,\n",
       "  'velocity radial': <disgrid.loaders.fargo3dmultifluid.FieldLoader2d at 0x7fc8a88c9438>,\n",
       "  'velocity azimuthal': <disgrid.loaders.fargo3dmultifluid.FieldLoader2d at 0x7fc8a88c9588>},\n",
       " '1d': {'torque planet 0': <disgrid.loaders.fargo3dmultifluid.FieldLoader1d at 0x7fc8a88c95f8>,\n",
       "  'velocity radial': <disgrid.loaders.fargo3dmultifluid.FieldLoader1d at 0x7fc8a88c9748>,\n",
       "  'velocity azimuthal': <disgrid.loaders.fargo3dmultifluid.FieldLoader1d at 0x7fc8a88c9780>},\n",
       " 'scalar': {'mass': <disgrid.loaders.fargo3dmultifluid.ScalarLoader at 0x7fc8a88c99b0>,\n",
       "  'angular momentum': <disgrid.loaders.fargo3dmultifluid.ScalarLoader at 0x7fc8a88c9a20>,\n",
       "  'torque planet 0': <disgrid.loaders.fargo3dmultifluid.ScalarLoader at 0x7fc8a88c99e8>}}"
      ]
     },
     "execution_count": 23,
     "metadata": {},
     "output_type": "execute_result"
    }
   ],
   "source": [
    "print(\"name of the fluid:\" , gas.name)\n",
    "print(\"available physical quantities:\")\n",
    "gas.variable_loaders"
   ]
  },
  {
   "cell_type": "markdown",
   "metadata": {},
   "source": [
    "This is a dict containing loaders separated into 4 categories: scalar, 1d, 2d, 3d.\n",
    "\n",
    "The reflect the data which was found by the loader. Since we specified a directory of a 2d simulation, there is no 3d data here."
   ]
  },
  {
   "cell_type": "markdown",
   "metadata": {},
   "source": [
    "We already saw the **Scalar** class in the planet example above, s"
   ]
  },
  {
   "cell_type": "code",
   "execution_count": 24,
   "metadata": {},
   "outputs": [
    {
     "data": {
      "text/plain": [
       "disgrid.field.Field"
      ]
     },
     "execution_count": 24,
     "metadata": {},
     "output_type": "execute_result"
    }
   ],
   "source": [
    "sigma = gas.get(\"2d\", \"mass density\", 2)\n",
    "type(sigma)"
   ]
  },
  {
   "cell_type": "markdown",
   "metadata": {},
   "source": [
    "Note that the data was only loaded now. The Field object gas only contains functions to load the data. So it only loads the data thats actually requested."
   ]
  },
  {
   "cell_type": "markdown",
   "metadata": {},
   "source": [
    "## Fields\n",
    "Fields contain all information about a physical quantity defined on all points in space\n",
    "\n",
    "Their dimension dim might be n=1,2 or 3.\n",
    "\n",
    "The contain the values as a n-dim array as well as the grid information. This makes it quite easy to work with them."
   ]
  },
  {
   "cell_type": "code",
   "execution_count": 25,
   "metadata": {},
   "outputs": [
    {
     "data": {
      "text/plain": [
       "['data',\n",
       " 'get',\n",
       " 'get_data',\n",
       " 'get_grid',\n",
       " 'get_name',\n",
       " 'get_time',\n",
       " 'grid',\n",
       " 'name',\n",
       " 'time']"
      ]
     },
     "execution_count": 25,
     "metadata": {},
     "output_type": "execute_result"
    }
   ],
   "source": [
    "filterdir(sigma)"
   ]
  },
  {
   "cell_type": "markdown",
   "metadata": {},
   "source": [
    "A Field object knows to which time it belongs and what its called. Think about whether that could be useful for plotting."
   ]
  },
  {
   "cell_type": "code",
   "execution_count": 26,
   "metadata": {},
   "outputs": [
    {
     "data": {
      "text/latex": [
       "$7.4830733 \\times 10^{8} \\; \\mathrm{s}$"
      ],
      "text/plain": [
       "<Quantity 7.48307334e+08 s>"
      ]
     },
     "execution_count": 26,
     "metadata": {},
     "output_type": "execute_result"
    }
   ],
   "source": [
    "sigma.time"
   ]
  },
  {
   "cell_type": "code",
   "execution_count": 27,
   "metadata": {},
   "outputs": [
    {
     "data": {
      "text/plain": [
       "'mass density'"
      ]
     },
     "execution_count": 27,
     "metadata": {},
     "output_type": "execute_result"
    }
   ],
   "source": [
    "sigma.name"
   ]
  },
  {
   "cell_type": "markdown",
   "metadata": {},
   "source": [
    "The **data** member is a 2d astropy quantity."
   ]
  },
  {
   "cell_type": "code",
   "execution_count": 28,
   "metadata": {},
   "outputs": [
    {
     "name": "stdout",
     "output_type": "stream",
     "text": [
      "type of sigma.data: <class 'astropy.units.quantity.Quantity'>\n",
      "dim of sigma.data: 2\n",
      "shape of sigma.data: (128, 384)\n"
     ]
    }
   ],
   "source": [
    "print(\"type of sigma.data:\", type(sigma.data))\n",
    "print(\"dim of sigma.data:\", sigma.data.ndim)\n",
    "print(\"shape of sigma.data:\", sigma.data.shape)"
   ]
  },
  {
   "cell_type": "markdown",
   "metadata": {},
   "source": [
    "This is essentially a numpy array with a unit."
   ]
  },
  {
   "cell_type": "markdown",
   "metadata": {},
   "source": [
    "We can plot the values this just like any other 2d array."
   ]
  },
  {
   "cell_type": "code",
   "execution_count": 29,
   "metadata": {},
   "outputs": [
    {
     "data": {
      "text/plain": [
       "<matplotlib.image.AxesImage at 0x7fc8a87a26a0>"
      ]
     },
     "execution_count": 29,
     "metadata": {},
     "output_type": "execute_result"
    },
    {
     "data": {
      "image/png": "[encoded data removed]",
      "text/plain": [
       "<Figure size 432x288 with 1 Axes>"
      ]
     },
     "metadata": {
      "needs_background": "light"
     },
     "output_type": "display_data"
    }
   ],
   "source": [
    "plt.imshow(sigma.data.cgs.value)"
   ]
  },
  {
   "cell_type": "markdown",
   "metadata": {},
   "source": [
    "We can already see the spiral and density enhancement created by the planet. But notice the axis labels. They are just pixels. What we really want are physical positions. We would like to have information about the underlying grid."
   ]
  },
  {
   "cell_type": "markdown",
   "metadata": {},
   "source": [
    "## Grid\n",
    "The Grid class contains all information about the grid. Currently the following grids are (partially) supported."
   ]
  },
  {
   "cell_type": "code",
   "execution_count": 30,
   "metadata": {},
   "outputs": [
    {
     "data": {
      "text/plain": [
       "['CartesianGrid',\n",
       " 'CylindricalGrid',\n",
       " 'Grid',\n",
       " 'PolarGrid',\n",
       " 'RegularGrid',\n",
       " 'SphericalGrid']"
      ]
     },
     "execution_count": 30,
     "metadata": {},
     "output_type": "execute_result"
    }
   ],
   "source": [
    "import disgrid.grid\n",
    "[s for s in filterdir(disgrid.grid) if \"Grid\" in s]"
   ]
  },
  {
   "cell_type": "markdown",
   "metadata": {},
   "source": [
    "RegularGrid and Grid are abstract classes from which the other inherit.\n",
    "\n",
    "Note that only the PolarGrid is currently used, so the others might only partially work. If you encounter issues or limitations, please open an issue on the [github repository issue section](https://github.com/rometsch/disgrid/issues)."
   ]
  },
  {
   "cell_type": "markdown",
   "metadata": {},
   "source": [
    "### Skip the next section if you are not interested in staggered grids"
   ]
  },
  {
   "cell_type": "markdown",
   "metadata": {},
   "source": [
    "Now lets inspect the grid of our sigma field."
   ]
  },
  {
   "cell_type": "code",
   "execution_count": 31,
   "metadata": {},
   "outputs": [
    {
     "data": {
      "text/plain": [
       "['active_interfaces',\n",
       " 'dim',\n",
       " 'get',\n",
       " 'get_centers',\n",
       " 'get_coordinates',\n",
       " 'get_interfaces',\n",
       " 'get_sizes',\n",
       " 'names',\n",
       " 'phi_c',\n",
       " 'phi_d',\n",
       " 'phi_i',\n",
       " 'r_c',\n",
       " 'r_d',\n",
       " 'r_i']"
      ]
     },
     "execution_count": 31,
     "metadata": {},
     "output_type": "execute_result"
    }
   ],
   "source": [
    "g = sigma.grid\n",
    "filterdir(g)"
   ]
  },
  {
   "cell_type": "markdown",
   "metadata": {},
   "source": [
    "x_i/c/d are the positions of interfaces or centeres and cellsizes (delta) of coordinate x"
   ]
  },
  {
   "cell_type": "markdown",
   "metadata": {},
   "source": [
    "get_interfaces, get_centers and get_sizes return these values "
   ]
  },
  {
   "cell_type": "code",
   "execution_count": 32,
   "metadata": {},
   "outputs": [
    {
     "name": "stdout",
     "output_type": "stream",
     "text": [
      "interfaces r: [3.11163572e+13 3.23926140e+13 3.36688708e+13 3.49451277e+13\n",
      " 3.62213845e+13 3.74976414e+13 3.87738982e+13 4.00501550e+13\n",
      " 4.13264119e+13 4.26026687e+13] cm\n",
      "centers r: [3.17544856e+13 3.30307424e+13 3.43069993e+13 3.55832561e+13\n",
      " 3.68595129e+13 3.81357698e+13 3.94120266e+13 4.06882834e+13\n",
      " 4.19645403e+13 4.32407971e+13] cm\n"
     ]
    }
   ],
   "source": [
    "print(\"interfaces r:\", g.get_interfaces(\"r\")[:10])\n",
    "print(\"centers r:\", g.get_centers(\"r\")[:10])"
   ]
  },
  {
   "cell_type": "markdown",
   "metadata": {},
   "source": [
    "Here you can see, that each position of a center lies in between two interface positions. "
   ]
  },
  {
   "cell_type": "markdown",
   "metadata": {},
   "source": [
    "get_coordinates returns either the center positions or the interface positions, depending on whether the quantity to which the grid belongs to is defined on the interfaces of the cell or in the center."
   ]
  },
  {
   "cell_type": "markdown",
   "metadata": {},
   "source": [
    "To make this clearer, lets have a look at the radial velocity. The $v_\\text{rad}$ is defined on the radial interfaces in Fargo3d, so we expect to get these by running get_coordinates."
   ]
  },
  {
   "cell_type": "code",
   "execution_count": 33,
   "metadata": {},
   "outputs": [
    {
     "name": "stdout",
     "output_type": "stream",
     "text": [
      "vrad defined on radial interface: True\n",
      "vrad defined on azimuthal center: True\n"
     ]
    }
   ],
   "source": [
    "vrad = gas.get(\"2d\", \"velocity radial\", 2)\n",
    "print(\"vrad defined on radial interface:\", all(vrad.grid.get_coordinates(\"r\") == vrad.grid.get_interfaces(\"r\")))\n",
    "print(\"vrad defined on azimuthal center:\", all(vrad.grid.get_coordinates(\"phi\") == vrad.grid.get_centers(\"phi\")))"
   ]
  },
  {
   "cell_type": "markdown",
   "metadata": {},
   "source": [
    "### Comming back to the density plot\n",
    "Now we would like to plot the surface density with physical coordinates."
   ]
  },
  {
   "cell_type": "code",
   "execution_count": 34,
   "metadata": {},
   "outputs": [],
   "source": [
    "r = sigma.grid.get_coordinates(\"r\")\n",
    "phi = sigma.grid.get_coordinates(\"phi\")"
   ]
  },
  {
   "cell_type": "markdown",
   "metadata": {},
   "source": [
    "This is all we have to do to get the data. Now some standard plotting..."
   ]
  },
  {
   "cell_type": "code",
   "execution_count": 44,
   "metadata": {},
   "outputs": [
    {
     "data": {
      "text/plain": [
       "Text(0.5, 0, 'y [au]')"
      ]
     },
     "execution_count": 44,
     "metadata": {},
     "output_type": "execute_result"
    },
    {
     "data": {
      "image/png": "[encoded data removed]",
      "text/plain": [
       "<Figure size 432x288 with 1 Axes>"
      ]
     },
     "metadata": {
      "needs_background": "light"
     },
     "output_type": "display_data"
    }
   ],
   "source": [
    "# make a meshgrid for pcolormesh\n",
    "PHI, R = np.meshgrid(phi, r)\n",
    "X = R*np.cos(PHI)\n",
    "Y = R*np.sin(PHI)\n",
    "\n",
    "plt.pcolormesh(X.to(\"au\"),Y.to(\"au\"), sigma.data)\n",
    "ax = plt.gca()\n",
    "ax.set_aspect(\"equal\")\n",
    "ax.set_xlabel(\"x [au]\")\n",
    "ax.set_xlabel(\"y [au]\")"
   ]
  },
  {
   "cell_type": "markdown",
   "metadata": {},
   "source": [
    "## Bonus: if you have smurf installed"
   ]
  },
  {
   "cell_type": "markdown",
   "metadata": {},
   "source": [
    "Go to the simulation data you just loaded and initialize a new simulation with **smurf init** and add it to the cache with **smurf cache --notify**\n",
    "\n",
    "In my case the data directory was ~/bormio_tutorial/fargo3d/outputs/fargo_multifluid/"
   ]
  },
  {
   "cell_type": "code",
   "execution_count": 54,
   "metadata": {},
   "outputs": [],
   "source": [
    "os.chdir(datadir)"
   ]
  },
  {
   "cell_type": "code",
   "execution_count": 53,
   "metadata": {},
   "outputs": [
    {
     "name": "stdout",
     "output_type": "stream",
     "text": [
      "uuid = 9cc744e9-d9ad-4657-8755-4116e89a89cd\n",
      "name = fargo_multifluid\n"
     ]
    }
   ],
   "source": [
    "!smurf init"
   ]
  },
  {
   "cell_type": "code",
   "execution_count": 55,
   "metadata": {},
   "outputs": [],
   "source": [
    "!smurf cache --notify"
   ]
  },
  {
   "cell_type": "markdown",
   "metadata": {},
   "source": [
    "disgrid has a smurf plugin.\n",
    "This makes it possible to load the data by giving an id or a name of a simulation like so:"
   ]
  },
  {
   "cell_type": "code",
   "execution_count": 45,
   "metadata": {},
   "outputs": [],
   "source": [
    "from disgrid import SData"
   ]
  },
  {
   "cell_type": "code",
   "execution_count": 56,
   "metadata": {},
   "outputs": [],
   "source": [
    "data = SData(\"9cc744e9\")"
   ]
  },
  {
   "cell_type": "code",
   "execution_count": 57,
   "metadata": {},
   "outputs": [
    {
     "data": {
      "text/plain": [
       "'/home/rometsch/bormio_tutorial/fargo3d/outputs/fargo_multifluid'"
      ]
     },
     "execution_count": 57,
     "metadata": {},
     "output_type": "execute_result"
    }
   ],
   "source": [
    "data.path"
   ]
  },
  {
   "cell_type": "markdown",
   "metadata": {},
   "source": [
    "You can do the same things with this data object like above."
   ]
  },
  {
   "cell_type": "markdown",
   "metadata": {},
   "source": [
    "If you setup smurf on a remote host with data you can load with disgrid, try the same thing. Smurf mounts the data for you in the background and unmounts it again when everything is done."
   ]
  },
  {
   "cell_type": "code",
   "execution_count": null,
   "metadata": {},
   "outputs": [],
   "source": []
  }
 ],
 "metadata": {
  "kernelspec": {
   "display_name": "Python 3",
   "language": "python",
   "name": "python3"
  },
  "language_info": {
   "codemirror_mode": {
    "name": "ipython",
    "version": 3
   },
   "file_extension": ".py",
   "mimetype": "text/x-python",
   "name": "python",
   "nbconvert_exporter": "python",
   "pygments_lexer": "ipython3",
   "version": "3.6.9"
  }
 },
 "nbformat": 4,
 "nbformat_minor": 4
}
