{
 "cells": [
  {
   "cell_type": "code",
   "execution_count": 1,
   "metadata": {},
   "outputs": [],
   "source": [
    "import numpy as np"
   ]
  },
  {
   "cell_type": "markdown",
   "metadata": {},
   "source": [
    "Generate a time array"
   ]
  },
  {
   "cell_type": "code",
   "execution_count": 52,
   "metadata": {},
   "outputs": [
    {
     "data": {
      "text/plain": [
       "75.0"
      ]
     },
     "execution_count": 52,
     "metadata": {},
     "output_type": "execute_result"
    }
   ],
   "source": [
    "tfinal = 100\n",
    "times = np.linspace(0, tfinal, 5)\n",
    "np.savetxt(\"times.dat\", times)\n",
    "times[3]"
   ]
  },
  {
   "cell_type": "code",
   "execution_count": 29,
   "metadata": {},
   "outputs": [
    {
     "data": {
      "text/plain": [
       "1500"
      ]
     },
     "execution_count": 29,
     "metadata": {},
     "output_type": "execute_result"
    }
   ],
   "source": [
    "75*20"
   ]
  },
  {
   "cell_type": "markdown",
   "metadata": {},
   "source": [
    "Some position data of a planet"
   ]
  },
  {
   "cell_type": "code",
   "execution_count": 40,
   "metadata": {},
   "outputs": [],
   "source": [
    "angle = times/np.max(times)*np.pi\n",
    "radius = 0.1 + 0.9*times/np.max(times)\n",
    "x = radius * np.cos(angle)\n",
    "y = radius * np.sin(angle)\n",
    "np.savetxt(\"planet.dat\", np.array([times, x, y]).T, delimiter='\\t')"
   ]
  },
  {
   "cell_type": "code",
   "execution_count": 42,
   "metadata": {},
   "outputs": [
    {
     "data": {
      "text/plain": [
       "-0.5480077554195742"
      ]
     },
     "execution_count": 42,
     "metadata": {},
     "output_type": "execute_result"
    }
   ],
   "source": [
    "x[3]"
   ]
  },
  {
   "cell_type": "code",
   "execution_count": 49,
   "metadata": {},
   "outputs": [],
   "source": [
    "!mkdir -p fluids/H\n",
    "!mkdir -p fluids/He\n",
    "fluids = [\"H\", \"He\"]"
   ]
  },
  {
   "cell_type": "code",
   "execution_count": 48,
   "metadata": {},
   "outputs": [
    {
     "data": {
      "text/plain": [
       "0.75"
      ]
     },
     "execution_count": 48,
     "metadata": {},
     "output_type": "execute_result"
    }
   ],
   "source": [
    "mass = np.exp(-times/np.max(times))\n",
    "momentum = np.linspace(0, 1, len(times))\n",
    "np.savetxt(\"fluids/H/quantities.dat\", np.array([times, mass, momentum]).T, delimiter='\\t')\n",
    "np.savetxt(\"fluids/He/quantities.dat\", np.array([times, mass/2, momentum/2]).T, delimiter='\\t')\n",
    "momentum[3]"
   ]
  },
  {
   "cell_type": "code",
   "execution_count": 55,
   "metadata": {},
   "outputs": [],
   "source": [
    "Nx = 10\n",
    "Ny = 10\n",
    "# cell interfaces\n",
    "xi = np.linspace(-1, 1, Nx+1)\n",
    "yi = np.linspace(-1, 1, Ny+1)\n",
    "Yi, Xi = np.meshgrid(yi, xi)\n",
    "# cell centers\n",
    "x = 0.5*(x[1:] + x[:-1])\n",
    "y = 0.5*(y[1:] + y[:-1])\n",
    "Y, X = np.meshgrid(y, x)\n",
    "# interfaces in x, centers in y\n",
    "Yxi, Xxi = np.meshgrid(y, xi)\n",
    "# centers in x, interfaces in y\n",
    "Yyi, Xyi = np.meshgrid(yi, x)"
   ]
  },
  {
   "cell_type": "code",
   "execution_count": 54,
   "metadata": {},
   "outputs": [],
   "source": [
    "for n,t  in enumerate(times):\n",
    "    for fluid in fluids:\n",
    "        factor = 1 if fluid == \"H\" else 0.5\n",
    "        density = factor * np.exp(-(X**2 + Y**2)) * np.exp(-t/tfinal)\n",
    "        filename = f\"fluids/{fluid}/density{n}.dat\"\n",
    "        np.savetxt(filename, density)\n",
    "        \n",
    "        vx = (Xxi + Yxi) * np.exp(-t/tfinal)\n",
    "        filename = f\"fluids/{fluid}/vx{n}.dat\"\n",
    "        np.savetxt(filename, density)\n",
    "        \n",
    "        vy = (Xyi - Yxi) * np.exp(-t/tfinal)\n",
    "        filename = f\"fluids/{fluid}/vy{n}.dat\"\n",
    "        np.savetxt(filename, density)\n",
    "        \n",
    "        \n",
    "        "
   ]
  },
  {
   "cell_type": "code",
   "execution_count": null,
   "metadata": {},
   "outputs": [],
   "source": []
  }
 ],
 "metadata": {
  "kernelspec": {
   "display_name": "Python 3.6.8 64-bit",
   "language": "python",
   "name": "python3"
  },
  "language_info": {
   "codemirror_mode": {
    "name": "ipython",
    "version": 3
   },
   "file_extension": ".py",
   "mimetype": "text/x-python",
   "name": "python",
   "nbconvert_exporter": "python",
   "pygments_lexer": "ipython3",
   "version": "3.10.6"
  },
  "orig_nbformat": 4,
  "vscode": {
   "interpreter": {
    "hash": "916dbcbb3f70747c44a77c7bcd40155683ae19c65e1c03b4aa3499c5328201f1"
   }
  }
 },
 "nbformat": 4,
 "nbformat_minor": 2
}
